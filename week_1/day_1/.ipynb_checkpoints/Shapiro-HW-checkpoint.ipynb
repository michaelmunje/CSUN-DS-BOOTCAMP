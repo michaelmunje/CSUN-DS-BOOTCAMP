{
 "cells": [
  {
   "cell_type": "code",
   "execution_count": 11,
   "metadata": {},
   "outputs": [
    {
     "name": "stdout",
     "output_type": "stream",
     "text": [
      "{'busted': 1, 'flat': 1, 'in': 2, 'baton': 1, 'rouge': 1, 'waiting': 1, 'for': 9, 'a': 4, 'train': 1, 'when': 3, 'i': 11, 'was': 7, 'feeling': 5, 'nearly': 1, 'faded': 1, 'as': 1, 'my': 10, 'jeans': 1, 'bobby': 15, 'thumbed': 1, 'diesel': 1, 'down': 1, 'just': 4, 'before': 1, 'it': 3, 'rained': 1, 'and': 9, 'rode': 1, 'us': 1, 'all': 4, 'the': 9, 'way': 1, 'to': 6, 'new': 1, 'orleans': 1, 'pulled': 1, 'harpoon': 1, 'out': 1, 'of': 4, 'dirty': 1, 'red': 1, 'bandana': 1, 'playing': 1, 'soft': 1, 'while': 1, 'sung': 1, 'blues': 3, 'yeah': 10, 'windshield': 1, 'wipers': 1, 'slapping': 1, 'time': 1, 'holding': 1, \"bobby's\": 2, 'hand': 1, 'mine': 2, 'we': 2, 'sang': 3, 'every': 1, 'song': 1, 'that': 3, 'driver': 1, 'knew': 1, \"freedom's\": 2, 'another': 2, 'word': 2, 'nothing': 5, 'left': 3, 'lose': 2, 'mean': 1, 'honey': 1, 'if': 1, \"isn't\": 1, 'free': 1, 'no': 2, 'good': 8, 'easy': 2, 'lord': 5, 'he': 3, 'you': 2, 'know': 2, 'enough': 4, 'me': 6, 'mcgee': 9, 'from': 2, 'kentucky': 1, 'coal': 1, 'mines': 1, 'california': 1, 'sun': 1, 'shared': 1, 'secrets': 1, 'soul': 1, 'through': 2, 'kinds': 1, 'weather': 1, 'everything': 1, 'done': 1, 'baby': 1, 'kept': 1, 'cold': 1, 'one': 2, 'day': 1, 'up': 1, 'near': 1, 'salinas': 1, 'let': 1, 'him': 4, 'slip': 1, 'away': 1, \"he's\": 1, \"lookin'\": 1, 'home': 1, 'hope': 1, 'finds': 1, 'but': 1, \"i'd\": 1, 'trade': 1, 'tomorrows': 1, 'single': 1, 'yesterday': 1, 'be': 1, \"holdin'\": 1, 'body': 1, 'next': 1, \"that's\": 1, 'la': 62, 'da': 22, 'called': 3, 'lover': 2, 'man': 1, 'said': 1, 'best': 1, 'can': 1, 'come': 1, 'on': 1, 'oh': 1, 'lo': 12, 'hey': 6}\n"
     ]
    }
   ],
   "source": [
    "unique_words = dict()\n",
    "\n",
    "with open(\"bobby.txt\") as bobby:\n",
    "    for line in bobby:\n",
    "        for word in line.split():\n",
    "            clean_word = word.rstrip(',').lower()\n",
    "            if clean_word not in unique_words.keys():\n",
    "                unique_words[clean_word] = 1\n",
    "            else:\n",
    "                unique_words[clean_word] += 1\n",
    "\n",
    "print(unique_words)            "
   ]
  }
 ],
 "metadata": {
  "kernelspec": {
   "display_name": "Python sklearn",
   "language": "python",
   "name": "myenv"
  },
  "language_info": {
   "codemirror_mode": {
    "name": "ipython",
    "version": 3
   },
   "file_extension": ".py",
   "mimetype": "text/x-python",
   "name": "python",
   "nbconvert_exporter": "python",
   "pygments_lexer": "ipython3",
   "version": "3.7.3"
  }
 },
 "nbformat": 4,
 "nbformat_minor": 2
}
