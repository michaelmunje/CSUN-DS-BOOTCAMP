{
 "cells": [
  {
   "cell_type": "code",
   "execution_count": 11,
   "metadata": {
    "scrolled": true
   },
   "outputs": [
    {
     "name": "stdout",
     "output_type": "stream",
     "text": [
      "{'busted': 1, 'flat': 1, 'in': 2, 'baton': 1, 'rouge': 1, 'waiting': 1, 'for': 9, 'a': 4, 'train': 1, 'when': 3, 'i': 11, 'was': 7, 'feeling': 5, 'nearly': 1, 'faded': 1, 'as': 1, 'my': 10, 'jeans': 1, 'bobby': 15, 'thumbed': 1, 'diesel': 1, 'down': 1, 'just': 4, 'before': 1, 'it': 3, 'rained': 1, 'and': 9, 'rode': 1, 'us': 1, 'all': 4, 'the': 9, 'way': 1, 'to': 6, 'new': 1, 'orleans': 1, 'pulled': 1, 'harpoon': 1, 'out': 1, 'of': 4, 'dirty': 1, 'red': 1, 'bandana': 1, 'playing': 1, 'soft': 1, 'while': 1, 'sung': 1, 'blues': 3, 'yeah': 10, 'windshield': 1, 'wipers': 1, 'slapping': 1, 'time': 1, 'holding': 1, \"bobby's\": 2, 'hand': 1, 'mine': 2, 'we': 2, 'sang': 3, 'every': 1, 'song': 1, 'that': 3, 'driver': 1, 'knew': 1, \"freedom's\": 2, 'another': 2, 'word': 2, 'nothing': 5, 'left': 3, 'lose': 2, 'mean': 1, 'honey': 1, 'if': 1, \"isn't\": 1, 'free': 1, 'no': 2, 'good': 8, 'easy': 2, 'lord': 5, 'he': 3, 'you': 2, 'know': 2, 'enough': 4, 'me': 6, 'mcgee': 9, 'from': 2, 'kentucky': 1, 'coal': 1, 'mines': 1, 'california': 1, 'sun': 1, 'shared': 1, 'secrets': 1, 'soul': 1, 'through': 2, 'kinds': 1, 'weather': 1, 'everything': 1, 'done': 1, 'baby': 1, 'kept': 1, 'cold': 1, 'one': 2, 'day': 1, 'up': 1, 'near': 1, 'salinas': 1, 'let': 1, 'him': 4, 'slip': 1, 'away': 1, \"he's\": 1, \"lookin'\": 1, 'home': 1, 'hope': 1, 'finds': 1, 'but': 1, \"i'd\": 1, 'trade': 1, 'tomorrows': 1, 'single': 1, 'yesterday': 1, 'be': 1, \"holdin'\": 1, 'body': 1, 'next': 1, \"that's\": 1, 'la': 62, 'da': 22, 'called': 3, 'lover': 2, 'man': 1, 'said': 1, 'best': 1, 'can': 1, 'come': 1, 'on': 1, 'oh': 1, 'lo': 12, 'hey': 6}\n"
     ]
    }
   ],
   "source": [
    "unique_words = dict()\n",
    "\n",
    "with open(\"bobby.txt\") as bobby:\n",
    "    for line in bobby:\n",
    "        for word in line.split():\n",
    "            clean_word = word.rstrip(',').lower()\n",
    "            if clean_word not in unique_words.keys():\n",
    "                unique_words[clean_word] = 1\n",
    "            else:\n",
    "                unique_words[clean_word] += 1\n",
    "\n",
    "print(unique_words)            "
   ]
  },
  {
   "cell_type": "code",
   "execution_count": 12,
   "metadata": {},
   "outputs": [],
   "source": [
    "def gcd_recursive(a, b):\n",
    "    if b == 0:\n",
    "        print(a)\n",
    "    else:\n",
    "        print(b,a%b)\n",
    "        gcd_recursive(b,a%b)"
   ]
  },
  {
   "cell_type": "code",
   "execution_count": 14,
   "metadata": {},
   "outputs": [],
   "source": [
    "def gcd(a, b):\n",
    "    while (b != 0):\n",
    "        a, b = b, a%b\n",
    "        print(a, b)\n",
    "    print(a)"
   ]
  },
  {
   "cell_type": "code",
   "execution_count": 17,
   "metadata": {
    "scrolled": true
   },
   "outputs": [
    {
     "name": "stdout",
     "output_type": "stream",
     "text": [
      "156 18\n",
      "18 12\n",
      "12 6\n",
      "6 0\n",
      "6\n"
     ]
    }
   ],
   "source": [
    "gcd(330, 156)"
   ]
  },
  {
   "cell_type": "code",
   "execution_count": 18,
   "metadata": {},
   "outputs": [
    {
     "name": "stdout",
     "output_type": "stream",
     "text": [
      "17157 4902\n",
      "4902 2451\n",
      "2451 0\n",
      "2451\n"
     ]
    }
   ],
   "source": [
    "gcd(25963443,17157)"
   ]
  },
  {
   "cell_type": "code",
   "execution_count": 19,
   "metadata": {
    "scrolled": true
   },
   "outputs": [
    {
     "name": "stdout",
     "output_type": "stream",
     "text": [
      "493305417 6783\n",
      "6783 4959\n",
      "4959 1824\n",
      "1824 1311\n",
      "1311 513\n",
      "513 285\n",
      "285 228\n",
      "228 57\n",
      "57 0\n",
      "57\n"
     ]
    }
   ],
   "source": [
    "gcd(6783,493305417)"
   ]
  },
  {
   "cell_type": "code",
   "execution_count": 20,
   "metadata": {
    "scrolled": true
   },
   "outputs": [
    {
     "name": "stdout",
     "output_type": "stream",
     "text": [
      "9877 4494\n",
      "4494 889\n",
      "889 49\n",
      "49 7\n",
      "7 0\n",
      "7\n"
     ]
    }
   ],
   "source": [
    "gcd(34880181,9877)"
   ]
  },
  {
   "cell_type": "code",
   "execution_count": 74,
   "metadata": {},
   "outputs": [
    {
     "name": "stdout",
     "output_type": "stream",
     "text": [
      "2\n",
      "3\n",
      "5\n",
      "7\n",
      "11\n",
      "13\n",
      "17\n",
      "19\n",
      "23\n",
      "29\n",
      "31\n",
      "37\n",
      "41\n",
      "43\n",
      "47\n",
      "49\n",
      "53\n",
      "59\n",
      "61\n",
      "67\n",
      "71\n",
      "73\n",
      "79\n",
      "83\n",
      "89\n",
      "91\n",
      "97\n",
      "101\n",
      "103\n",
      "107\n",
      "109\n",
      "113\n",
      "127\n",
      "131\n",
      "133\n",
      "137\n",
      "139\n",
      "149\n",
      "151\n",
      "157\n",
      "161\n",
      "163\n",
      "167\n",
      "169\n",
      "173\n",
      "179\n",
      "181\n",
      "191\n",
      "193\n",
      "197\n",
      "199\n",
      "211\n",
      "217\n",
      "223\n",
      "227\n",
      "229\n",
      "233\n",
      "239\n",
      "241\n",
      "247\n",
      "251\n",
      "257\n",
      "259\n",
      "263\n",
      "269\n",
      "271\n",
      "277\n",
      "281\n",
      "283\n",
      "287\n",
      "293\n",
      "299\n",
      "301\n",
      "307\n",
      "311\n",
      "313\n",
      "317\n",
      "329\n",
      "331\n",
      "337\n",
      "343\n",
      "347\n",
      "349\n",
      "353\n",
      "359\n",
      "361\n",
      "367\n",
      "371\n",
      "373\n",
      "379\n",
      "383\n",
      "389\n",
      "397\n",
      "401\n",
      "403\n",
      "409\n",
      "413\n",
      "419\n",
      "421\n",
      "427\n",
      "431\n",
      "433\n",
      "437\n",
      "439\n",
      "443\n",
      "449\n",
      "457\n",
      "461\n",
      "463\n",
      "467\n",
      "469\n",
      "479\n",
      "481\n",
      "487\n",
      "491\n",
      "497\n",
      "499\n",
      "503\n",
      "509\n",
      "511\n",
      "521\n",
      "523\n",
      "529\n",
      "533\n",
      "541\n",
      "547\n",
      "553\n",
      "557\n",
      "559\n",
      "563\n",
      "569\n",
      "571\n",
      "577\n",
      "581\n",
      "587\n",
      "589\n",
      "593\n",
      "599\n",
      "601\n",
      "607\n",
      "611\n",
      "613\n",
      "617\n",
      "619\n",
      "623\n",
      "631\n",
      "637\n",
      "641\n",
      "643\n",
      "647\n",
      "653\n",
      "659\n",
      "661\n",
      "673\n",
      "677\n",
      "679\n",
      "683\n",
      "689\n",
      "691\n",
      "701\n",
      "703\n",
      "707\n",
      "709\n",
      "713\n",
      "719\n",
      "721\n",
      "727\n",
      "733\n",
      "739\n",
      "743\n",
      "749\n",
      "751\n",
      "757\n",
      "761\n",
      "763\n",
      "767\n",
      "769\n",
      "773\n",
      "779\n",
      "787\n",
      "791\n",
      "793\n",
      "797\n",
      "809\n",
      "811\n",
      "817\n",
      "821\n",
      "823\n",
      "827\n",
      "829\n",
      "839\n",
      "851\n",
      "853\n",
      "857\n",
      "859\n",
      "863\n",
      "871\n",
      "877\n",
      "881\n",
      "883\n",
      "887\n",
      "889\n",
      "893\n",
      "907\n",
      "911\n",
      "917\n",
      "919\n",
      "923\n",
      "929\n",
      "931\n",
      "937\n",
      "941\n",
      "943\n",
      "947\n",
      "949\n",
      "953\n",
      "959\n",
      "961\n",
      "967\n",
      "971\n",
      "973\n",
      "977\n",
      "983\n",
      "989\n",
      "991\n",
      "997\n"
     ]
    }
   ],
   "source": [
    "import numpy as np\n",
    "   \n",
    "def sieve(n):   \n",
    "    is_prime = [True for i in range(2, n + 1)]\n",
    "    p = 2\n",
    "    while (p <= np.sqrt(n)): \n",
    "        if is_prime[p]:\n",
    "            for i in range(p + 1, n + 1):\n",
    "                if i % p == 0:\n",
    "                    is_prime[i - 2] = False\n",
    "        p += 1\n",
    "\n",
    "    for x, prime in enumerate(is_prime): \n",
    "        if prime is True:\n",
    "            print(x + 2)\n",
    "\n",
    "sieve(1000)"
   ]
  }
 ],
 "metadata": {
  "kernelspec": {
   "display_name": "Python sklearn",
   "language": "python",
   "name": "myenv"
  },
  "language_info": {
   "codemirror_mode": {
    "name": "ipython",
    "version": 3
   },
   "file_extension": ".py",
   "mimetype": "text/x-python",
   "name": "python",
   "nbconvert_exporter": "python",
   "pygments_lexer": "ipython3",
   "version": "3.7.3"
  }
 },
 "nbformat": 4,
 "nbformat_minor": 2
}
